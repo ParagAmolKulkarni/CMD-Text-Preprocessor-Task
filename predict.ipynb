{
 "cells": [
  {
   "cell_type": "code",
   "execution_count": 33,
   "id": "a1cee5a3",
   "metadata": {},
   "outputs": [],
   "source": [
    "from text_cleaner import TextCleaner\n",
    "import joblib\n",
    "import sys"
   ]
  },
  {
   "cell_type": "code",
   "execution_count": 35,
   "id": "a8f3e230",
   "metadata": {
    "lines_to_next_cell": 1
   },
   "outputs": [],
   "source": [
    "# Load saved models\n",
    "model = joblib.load('model.joblib')\n",
    "tfidf = joblib.load('tfidf.joblib')"
   ]
  },
  {
   "cell_type": "code",
   "execution_count": 37,
   "id": "e9217a5e",
   "metadata": {
    "lines_to_next_cell": 1
   },
   "outputs": [],
   "source": [
    "def predict_text(text):\n",
    "    # Clean text\n",
    "    cleaner = TextCleaner()\n",
    "    cleaned_tokens = cleaner.clean_text(text)\n",
    "    cleaned_text = ' '.join(cleaned_tokens)\n",
    "    \n",
    "    # Vectorize\n",
    "    vectorized = tfidf.transform([cleaned_text])\n",
    "    \n",
    "    # Predict\n",
    "    prediction = model.predict(vectorized)[0]\n",
    "    return prediction, cleaned_text"
   ]
  },
  {
   "cell_type": "code",
   "execution_count": null,
   "id": "004a0191-e2be-4223-bef0-72742c3ca0bf",
   "metadata": {},
   "outputs": [],
   "source": [
    "import sys\n",
    "\n",
    "def main():\n",
    "    try:\n",
    "        # Try Jupyter (interactive) input\n",
    "        user_text = input(\"Enter text to classify: \")\n",
    "    except:\n",
    "        # Fallback to CLI args if run as script\n",
    "        if len(sys.argv) > 1:\n",
    "            user_text = ' '.join(sys.argv[1:])\n",
    "        else:\n",
    "            user_text = \"Default text\"\n",
    "\n",
    "    pred, cleaned = predict_text(user_text)\n",
    "    print(\"\\nCleaned Text:\", cleaned)\n",
    "    print(\"Predicted Class:\", \"Class 0\" if pred == 0 else \"Class 1\")\n",
    "\n",
    "# Run main in script, or just call in notebook\n",
    "if __name__ == \"__main__\":\n",
    "    main()\n"
   ]
  },
  {
   "cell_type": "code",
   "execution_count": null,
   "id": "89f18bea-7720-4c35-b509-5d973d2803f5",
   "metadata": {},
   "outputs": [],
   "source": []
  },
  {
   "cell_type": "code",
   "execution_count": null,
   "id": "f08467ff-ec92-45db-8118-0647d5ac3b52",
   "metadata": {},
   "outputs": [],
   "source": []
  },
  {
   "cell_type": "code",
   "execution_count": null,
   "id": "11fde13b-a41d-48bd-984b-9e0308b2eea5",
   "metadata": {},
   "outputs": [],
   "source": []
  },
  {
   "cell_type": "code",
   "execution_count": null,
   "id": "c6f124df-2769-4f22-a820-b3477031ff80",
   "metadata": {},
   "outputs": [],
   "source": []
  },
  {
   "cell_type": "code",
   "execution_count": null,
   "id": "8efe1b38-5567-4833-9ff9-eda8b8261404",
   "metadata": {},
   "outputs": [],
   "source": []
  }
 ],
 "metadata": {
  "jupytext": {
   "cell_metadata_filter": "-all",
   "main_language": "python",
   "notebook_metadata_filter": "-all"
  },
  "kernelspec": {
   "display_name": "Python [conda env:base] *",
   "language": "python",
   "name": "conda-base-py"
  },
  "language_info": {
   "codemirror_mode": {
    "name": "ipython",
    "version": 3
   },
   "file_extension": ".py",
   "mimetype": "text/x-python",
   "name": "python",
   "nbconvert_exporter": "python",
   "pygments_lexer": "ipython3",
   "version": "3.12.7"
  }
 },
 "nbformat": 4,
 "nbformat_minor": 5
}
