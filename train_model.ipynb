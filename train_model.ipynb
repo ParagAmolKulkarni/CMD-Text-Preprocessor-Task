{
 "cells": [
  {
   "cell_type": "code",
   "execution_count": null,
   "id": "26081f0c",
   "metadata": {},
   "outputs": [],
   "source": [
    "from sklearn.datasets import fetch_20newsgroups\n",
    "from sklearn.model_selection import train_test_split\n",
    "from sklearn.feature_extraction.text import TfidfVectorizer\n",
    "from sklearn.linear_model import LogisticRegression\n",
    "from sklearn.metrics import accuracy_score, classification_report\n",
    "from text_cleaner import TextCleaner\n",
    "import pandas as pd\n",
    "import joblib"
   ]
  },
  {
   "cell_type": "code",
   "execution_count": null,
   "id": "5a76fc52",
   "metadata": {},
   "outputs": [],
   "source": [
    "# Load built-in dataset\n",
    "categories = ['rec.sport.baseball', 'sci.med']\n",
    "newsgroups = fetch_20newsgroups(subset='all', categories=categories)"
   ]
  },
  {
   "cell_type": "code",
   "execution_count": null,
   "id": "0b8c7aca",
   "metadata": {},
   "outputs": [],
   "source": [
    "# Create DataFrame\n",
    "df = pd.DataFrame({\n",
    "    'text': newsgroups.data,\n",
    "    'label': newsgroups.target\n",
    "})"
   ]
  },
  {
   "cell_type": "code",
   "execution_count": null,
   "id": "a2ef47f7",
   "metadata": {},
   "outputs": [],
   "source": [
    "# Clean text\n",
    "cleaner = TextCleaner()\n",
    "df['cleaned'] = df['text'].apply(lambda x: ' '.join(cleaner.clean_text(x)))"
   ]
  },
  {
   "cell_type": "code",
   "execution_count": null,
   "id": "5ba1c095",
   "metadata": {},
   "outputs": [],
   "source": [
    "# Display sample cleaned text\n",
    "print(\"\\nSample Cleaned Text:\")\n",
    "print(df['cleaned'].head(3).to_string(index=False))"
   ]
  },
  {
   "cell_type": "code",
   "execution_count": null,
   "id": "805ccb79",
   "metadata": {},
   "outputs": [],
   "source": [
    "# Train-test split\n",
    "X_train, X_test, y_train, y_test = train_test_split(\n",
    "    df['cleaned'], df['label'], test_size=0.2, random_state=42\n",
    ")"
   ]
  },
  {
   "cell_type": "code",
   "execution_count": null,
   "id": "6c13fdc9",
   "metadata": {},
   "outputs": [],
   "source": [
    "# Vectorization\n",
    "tfidf = TfidfVectorizer(max_features=1000)\n",
    "X_train_tf = tfidf.fit_transform(X_train)\n",
    "X_test_tf = tfidf.transform(X_test)"
   ]
  },
  {
   "cell_type": "code",
   "execution_count": null,
   "id": "d6a868cf",
   "metadata": {},
   "outputs": [],
   "source": [
    "# Model training\n",
    "model = LogisticRegression(max_iter=1000)\n",
    "model.fit(X_train_tf, y_train)"
   ]
  },
  {
   "cell_type": "code",
   "execution_count": null,
   "id": "016e95dc",
   "metadata": {},
   "outputs": [],
   "source": [
    "# Save models\n",
    "joblib.dump(model, 'model.joblib')\n",
    "joblib.dump(tfidf, 'tfidf.joblib')"
   ]
  },
  {
   "cell_type": "code",
   "execution_count": null,
   "id": "3b1bb444",
   "metadata": {},
   "outputs": [],
   "source": [
    "# Evaluation\n",
    "preds = model.predict(X_test_tf)\n",
    "print(f\"\\nAccuracy: {accuracy_score(y_test, preds):.2f}\")\n",
    "print(\"Classification Report:\")\n",
    "print(classification_report(y_test, preds))"
   ]
  }
 ],
 "metadata": {
  "jupytext": {
   "cell_metadata_filter": "-all",
   "main_language": "python",
   "notebook_metadata_filter": "-all"
  }
 },
 "nbformat": 4,
 "nbformat_minor": 5
}
