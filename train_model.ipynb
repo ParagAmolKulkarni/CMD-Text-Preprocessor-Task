import pandas as pd
from sklearn.model_selection import train_test_split
from sklearn.feature_extraction.text import TfidfVectorizer
from sklearn.linear_model import LogisticRegression
from sklearn.metrics import accuracy_score, classification_report
from text_preprocessor import TextPreprocessor
import joblib

def main():
    # Load sample dataset
    from sklearn.datasets import fetch_20newsgroups
    categories = ['alt.atheism', 'soc.religion.christian']
    newsgroups = fetch_20newsgroups(subset='all', categories=categories)
    
    # Create DataFrame
    df = pd.DataFrame({
        'text': newsgroups.data,
        'label': newsgroups.target
    })
    
    # Preprocess text
    preprocessor = TextPreprocessor()
    df['cleaned_text'] = df['text'].apply(preprocessor.clean_text).apply(' '.join)
    
    # Train-test split
    X_train, X_test, y_train, y_test = train_test_split(
        df['cleaned_text'], df['label'], test_size=0.2, random_state=42
    )
    
    # TF-IDF Vectorization
    vectorizer = TfidfVectorizer(max_features=5000)
    X_train_vec = vectorizer.fit_transform(X_train)
    X_test_vec = vectorizer.transform(X_test)
    
    # Model training
    model = LogisticRegression(max_iter=1000)
    model.fit(X_train_vec, y_train)
    
    # Evaluation
    y_pred = model.predict(X_test_vec)
    print(f"Accuracy: {accuracy_score(y_test, y_pred):.2f}")
    print("\nClassification Report:")
    print(classification_report(y_test, y_pred))
    
    # Save artifacts
    joblib.dump(model, 'logreg_model.joblib')
    joblib.dump(vectorizer, 'tfidf_vectorizer.joblib')
    print("\nModel and vectorizer saved successfully!")

if __name__ == "__main__":
    main()